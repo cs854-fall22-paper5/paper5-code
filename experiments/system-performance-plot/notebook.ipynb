{
 "cells": [
  {
   "cell_type": "code",
   "execution_count": 1,
   "metadata": {
    "pycharm": {
     "name": "#%%\n"
    }
   },
   "outputs": [],
   "source": [
    "import pandas as pd\n",
    "import matplotlib.pyplot as plt"
   ]
  },
  {
   "cell_type": "code",
   "execution_count": 2,
   "outputs": [
    {
     "data": {
      "text/plain": "<Figure size 432x288 with 1 Axes>",
      "image/png": "[encoded data removed]"
     },
     "metadata": {
      "needs_background": "light"
     },
     "output_type": "display_data"
    }
   ],
   "source": [
    "data = pd.read_csv('../../data/data.csv')\n",
    "\n",
    "box_plot_data = [data.iloc[i, 2:].values for i in range(data.shape[0])]\n",
    "plt.boxplot(box_plot_data, patch_artist=False, labels=[data.iloc[i, 1] for i in range(data.shape[0])])\n",
    "plt.xlabel('Systems')\n",
    "plt.ylabel('NDCG@10')\n",
    "plt.ylim(0, 1)\n",
    "plt.savefig('systems-box-plots.pdf')\n",
    "plt.show()"
   ],
   "metadata": {
    "collapsed": false,
    "pycharm": {
     "name": "#%%\n"
    }
   }
  }
 ],
 "metadata": {
  "kernelspec": {
   "display_name": "Python 3.9.13 ('base')",
   "language": "python",
   "name": "python3"
  },
  "language_info": {
   "codemirror_mode": {
    "name": "ipython",
    "version": 3
   },
   "file_extension": ".py",
   "mimetype": "text/x-python",
   "name": "python",
   "nbconvert_exporter": "python",
   "pygments_lexer": "ipython3",
   "version": "3.9.13"
  },
  "orig_nbformat": 4,
  "vscode": {
   "interpreter": {
    "hash": "e8bf89c48289fcfef9d597d06bc52940248a012b37c0b829aaa98308c7f06606"
   }
  }
 },
 "nbformat": 4,
 "nbformat_minor": 2
}